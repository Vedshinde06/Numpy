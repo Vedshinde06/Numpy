{
 "cells": [
  {
   "cell_type": "code",
   "execution_count": 1,
   "id": "81bd27a8-68aa-48e4-972b-189d2ec82833",
   "metadata": {
    "scrolled": true
   },
   "outputs": [
    {
     "name": "stdout",
     "output_type": "stream",
     "text": [
      "Hello World !\n"
     ]
    }
   ],
   "source": [
    "print(\"Hello World !\")"
   ]
  },
  {
   "cell_type": "code",
   "execution_count": 8,
   "id": "15fec7c5-d1b3-4279-b496-8575b355e504",
   "metadata": {},
   "outputs": [
    {
     "data": {
      "text/plain": [
       "array([1, 2, 3, 4, 5])"
      ]
     },
     "execution_count": 8,
     "metadata": {},
     "output_type": "execute_result"
    }
   ],
   "source": [
    "import numpy as np\n",
    "\n",
    "arr=np.array([1,2,3,4,5])\n",
    "arr\n"
   ]
  },
  {
   "cell_type": "raw",
   "id": "a9f5cf8a-54bf-4d26-a1d7-feddc4b33d43",
   "metadata": {},
   "source": [
    "matrix = np.array([[1,2],[3,4]])\n",
    "matrix"
   ]
  },
  {
   "cell_type": "code",
   "execution_count": 12,
   "id": "fb9ea8ef-2217-48f1-a776-4a077c7bc454",
   "metadata": {},
   "outputs": [
    {
     "data": {
      "text/plain": [
       "array([[0., 0., 0.],\n",
       "       [0., 0., 0.]])"
      ]
     },
     "execution_count": 12,
     "metadata": {},
     "output_type": "execute_result"
    }
   ],
   "source": [
    "zero = np.zeros((2,3))\n",
    "zero\n"
   ]
  },
  {
   "cell_type": "code",
   "execution_count": 13,
   "id": "bd1780e2-d591-4a08-a2a3-59c866f65c61",
   "metadata": {},
   "outputs": [
    {
     "data": {
      "text/plain": [
       "array([[1., 1., 1., 1., 1.],\n",
       "       [1., 1., 1., 1., 1.],\n",
       "       [1., 1., 1., 1., 1.],\n",
       "       [1., 1., 1., 1., 1.]])"
      ]
     },
     "execution_count": 13,
     "metadata": {},
     "output_type": "execute_result"
    }
   ],
   "source": [
    "one = np.ones((4,5))\n",
    "one"
   ]
  },
  {
   "cell_type": "code",
   "execution_count": 16,
   "id": "e09295d9-32ec-4833-ba09-bf5e2a50f4f4",
   "metadata": {},
   "outputs": [
    {
     "data": {
      "text/plain": [
       "array([[0.81783841, 0.58661259, 0.26587653],\n",
       "       [0.01362742, 0.79967962, 0.21366265]])"
      ]
     },
     "execution_count": 16,
     "metadata": {},
     "output_type": "execute_result"
    }
   ],
   "source": [
    "random = np.random.rand(2,3)\n",
    "random"
   ]
  },
  {
   "cell_type": "code",
   "execution_count": 17,
   "id": "9a4c4a8e-64b3-484c-a3df-ad4be0c46505",
   "metadata": {},
   "outputs": [
    {
     "data": {
      "text/plain": [
       "(5,)"
      ]
     },
     "execution_count": 17,
     "metadata": {},
     "output_type": "execute_result"
    }
   ],
   "source": [
    "arr.shape"
   ]
  },
  {
   "cell_type": "code",
   "execution_count": 18,
   "id": "f9dff91b-cb6a-4f86-acd2-d11d2c6f826f",
   "metadata": {},
   "outputs": [
    {
     "data": {
      "text/plain": [
       "(2, 2)"
      ]
     },
     "execution_count": 18,
     "metadata": {},
     "output_type": "execute_result"
    }
   ],
   "source": [
    "matrix.shape\n"
   ]
  },
  {
   "cell_type": "code",
   "execution_count": 19,
   "id": "37795cb9-1895-47ca-97f6-d1a115dfd2de",
   "metadata": {},
   "outputs": [
    {
     "data": {
      "text/plain": [
       "2"
      ]
     },
     "execution_count": 19,
     "metadata": {},
     "output_type": "execute_result"
    }
   ],
   "source": [
    "matrix.ndim"
   ]
  },
  {
   "cell_type": "code",
   "execution_count": 21,
   "id": "eb5ae212-0a58-4742-a41a-95396249c5ee",
   "metadata": {},
   "outputs": [
    {
     "data": {
      "text/plain": [
       "4"
      ]
     },
     "execution_count": 21,
     "metadata": {},
     "output_type": "execute_result"
    }
   ],
   "source": [
    "matrix.size"
   ]
  },
  {
   "cell_type": "code",
   "execution_count": 22,
   "id": "20f309bc-3227-4ead-87a4-4a3c7a40a8d9",
   "metadata": {},
   "outputs": [
    {
     "data": {
      "text/plain": [
       "dtype('int32')"
      ]
     },
     "execution_count": 22,
     "metadata": {},
     "output_type": "execute_result"
    }
   ],
   "source": [
    "matrix.dtype"
   ]
  },
  {
   "cell_type": "code",
   "execution_count": 25,
   "id": "d4786aa1-deef-43a2-907b-e1ceb955889d",
   "metadata": {},
   "outputs": [
    {
     "name": "stdout",
     "output_type": "stream",
     "text": [
      "[ 4  6 24  7]\n",
      "[ 3  8 63 12]\n"
     ]
    }
   ],
   "source": [
    "ar1=np.array([1,2,3,4])\n",
    "ar2=np.array([3,4,21,3])\n",
    "\n",
    "print(ar1+ar2)\n",
    "print(ar1*ar2)\n"
   ]
  },
  {
   "cell_type": "code",
   "execution_count": 28,
   "id": "8f35ce0a-57e5-4ad7-9951-406e090715e6",
   "metadata": {},
   "outputs": [
    {
     "name": "stdout",
     "output_type": "stream",
     "text": [
      "[[10 18]\n",
      " [18 28]]\n"
     ]
    }
   ],
   "source": [
    "#matrix multiplication \n",
    "mrx1=np.array([[1,2],[2,3]])\n",
    "mrx2=np.array([[6,2],[2,8]])\n",
    "\n",
    "print(np.dot(mrx1,mrx2))\n"
   ]
  },
  {
   "cell_type": "code",
   "execution_count": 34,
   "id": "70319434-1af7-4428-9543-e41e877b9d7a",
   "metadata": {},
   "outputs": [
    {
     "name": "stdout",
     "output_type": "stream",
     "text": [
      "10\n",
      "7.75\n",
      "4\n"
     ]
    }
   ],
   "source": [
    "print(np.sum(ar1))\n",
    "print(np.mean(ar2))\n",
    "print(np.max(ar1))"
   ]
  },
  {
   "cell_type": "code",
   "execution_count": 35,
   "id": "23b0dfdc-a9e2-45cd-9a34-e8014581de7b",
   "metadata": {},
   "outputs": [
    {
     "name": "stdout",
     "output_type": "stream",
     "text": [
      "[[1 2 3]\n",
      " [4 5 6]]\n"
     ]
    }
   ],
   "source": [
    "arr = np.array([1, 2, 3, 4, 5, 6])\n",
    "reshaped = arr.reshape((2, 3))\n",
    "print(reshaped)\n"
   ]
  },
  {
   "cell_type": "code",
   "execution_count": 39,
   "id": "a3b35c8a-e85e-4b4a-9071-349a61fc4726",
   "metadata": {},
   "outputs": [
    {
     "name": "stdout",
     "output_type": "stream",
     "text": [
      "[11 12 13 14 15 16]\n",
      "[1 2 3 4]\n"
     ]
    },
    {
     "data": {
      "text/plain": [
       "array([False, False, False, False, False,  True])"
      ]
     },
     "execution_count": 39,
     "metadata": {},
     "output_type": "execute_result"
    }
   ],
   "source": [
    "arrs = np.array([1, 2, 3, 4, 5, 6])\n",
    "print(arrs+10) # Adds 10 to each element.\n",
    "\n",
    "print(arrs[arrs<5])\n",
    "arrs>5"
   ]
  },
  {
   "cell_type": "markdown",
   "id": "fb553ae2-29c6-4a2c-ae48-dc41ca8954d6",
   "metadata": {},
   "source": [
    "np.arange(start, stop, step): Create arrays with a range of values.\n",
    "np.linspace(start, stop, num): Create evenly spaced values.\n",
    "np.concatenate((arr1, arr2)): Combine arrays.\n",
    "np.transpose(matrix): Transpose a matrix."
   ]
  },
  {
   "cell_type": "code",
   "execution_count": 40,
   "id": "40b7aa1c-2698-4e68-a59f-ded5c1ab950f",
   "metadata": {},
   "outputs": [
    {
     "name": "stdout",
     "output_type": "stream",
     "text": [
      "[[1 2 3]\n",
      " [4 5 6]]\n"
     ]
    }
   ],
   "source": [
    "# Original 1D array\n",
    "arr = np.array([1, 2, 3, 4, 5, 6])\n",
    "\n",
    "# Reshape into 2x3 array\n",
    "reshaped = arr.reshape(2, 3)\n",
    "print(reshaped)"
   ]
  },
  {
   "cell_type": "code",
   "execution_count": 41,
   "id": "9067d9b1-ef8a-4df0-99b1-299e6a093dee",
   "metadata": {},
   "outputs": [
    {
     "name": "stdout",
     "output_type": "stream",
     "text": [
      "[[1 2]\n",
      " [3 4]\n",
      " [5 6]]\n"
     ]
    }
   ],
   "source": [
    "#Use -1 for automatic dimension inference\n",
    "reshaped = arr.reshape(3, -1)\n",
    "print(reshaped)"
   ]
  },
  {
   "cell_type": "code",
   "execution_count": 42,
   "id": "d92ccb71-f65e-4fae-b65f-45c5bedb52df",
   "metadata": {},
   "outputs": [
    {
     "name": "stdout",
     "output_type": "stream",
     "text": [
      "[1 2 3 4 5 6]\n"
     ]
    }
   ],
   "source": [
    "#ravel() is used to flatten a multidimensional array into a 1D array.\n",
    "#It provides a view (not a copy) of the original array, so changes affect the original.\n",
    "\n",
    "matrixA = np.array([[1, 2, 3], [4, 5, 6]])\n",
    "\n",
    "# Flatten the array\n",
    "flattened = matrixA.ravel()\n",
    "print(flattened)\n"
   ]
  },
  {
   "cell_type": "code",
   "execution_count": 43,
   "id": "9481d926-1a03-445f-b969-1d36356ddc59",
   "metadata": {},
   "outputs": [
    {
     "name": "stdout",
     "output_type": "stream",
     "text": [
      "[[1 4]\n",
      " [2 5]\n",
      " [3 6]]\n"
     ]
    }
   ],
   "source": [
    "transposed = matrixA.transpose()\n",
    "print(transposed)"
   ]
  },
  {
   "cell_type": "code",
   "execution_count": 48,
   "id": "a9819c17-12ef-483f-a502-bbc5ea9399e5",
   "metadata": {},
   "outputs": [
    {
     "name": "stdout",
     "output_type": "stream",
     "text": [
      "[1 2 3 4 5 6]\n"
     ]
    }
   ],
   "source": [
    "arr1 = np.array([1, 2, 3])\n",
    "arr2 = np.array([4, 5, 6])\n",
    "\n",
    "stacked = np.hstack((arr1, arr2))\n",
    "print(stacked)"
   ]
  },
  {
   "cell_type": "code",
   "execution_count": 51,
   "id": "3067e375-d656-4862-867d-74d0243775d2",
   "metadata": {},
   "outputs": [
    {
     "name": "stdout",
     "output_type": "stream",
     "text": [
      "[[1 2 3]\n",
      " [4 5 6]]\n"
     ]
    }
   ],
   "source": [
    "stacked = np.vstack((arr1, arr2))\n",
    "print(stacked)\n"
   ]
  },
  {
   "cell_type": "code",
   "execution_count": 50,
   "id": "aa7c4f0c-409e-484f-8204-072373f1d69d",
   "metadata": {},
   "outputs": [
    {
     "name": "stdout",
     "output_type": "stream",
     "text": [
      "[[[1 4]\n",
      "  [2 5]\n",
      "  [3 6]]]\n"
     ]
    }
   ],
   "source": [
    "stacked = np.dstack((arr1, arr2))\n",
    "print(stacked)\n"
   ]
  },
  {
   "cell_type": "code",
   "execution_count": 52,
   "id": "489933da-6320-42d1-844b-5e40d5f6d781",
   "metadata": {},
   "outputs": [
    {
     "name": "stdout",
     "output_type": "stream",
     "text": [
      "[array([[1, 2],\n",
      "       [5, 6]]), array([[3, 4],\n",
      "       [7, 8]])]\n"
     ]
    }
   ],
   "source": [
    "arr = np.array([[1, 2, 3, 4], [5, 6, 7, 8]])\n",
    "split = np.hsplit(arr, 2)\n",
    "print(split)\n"
   ]
  },
  {
   "cell_type": "code",
   "execution_count": 53,
   "id": "42eee0d9-2f38-4890-9c88-c0119c96f0b8",
   "metadata": {},
   "outputs": [
    {
     "name": "stdout",
     "output_type": "stream",
     "text": [
      "[array([[1, 2, 3, 4]]), array([[5, 6, 7, 8]])]\n"
     ]
    }
   ],
   "source": [
    "split = np.vsplit(arr, 2)\n",
    "print(split)\n"
   ]
  },
  {
   "cell_type": "code",
   "execution_count": 54,
   "id": "afe8e071-3bae-49f3-a4d1-0d13d3214c7e",
   "metadata": {},
   "outputs": [
    {
     "name": "stdout",
     "output_type": "stream",
     "text": [
      "[array([1, 2]), array([3, 4]), array([5, 6])]\n"
     ]
    }
   ],
   "source": [
    "arr = np.array([1, 2, 3, 4, 5, 6])\n",
    "split = np.split(arr, 3)  # Split into 3 equal parts\n",
    "print(split)\n"
   ]
  },
  {
   "cell_type": "code",
   "execution_count": null,
   "id": "e35f703d-c7bf-4b1e-b052-1a91a0204c1c",
   "metadata": {},
   "outputs": [],
   "source": []
  }
 ],
 "metadata": {
  "kernelspec": {
   "display_name": "Python 3 (ipykernel)",
   "language": "python",
   "name": "python3"
  },
  "language_info": {
   "codemirror_mode": {
    "name": "ipython",
    "version": 3
   },
   "file_extension": ".py",
   "mimetype": "text/x-python",
   "name": "python",
   "nbconvert_exporter": "python",
   "pygments_lexer": "ipython3",
   "version": "3.12.7"
  }
 },
 "nbformat": 4,
 "nbformat_minor": 5
}
